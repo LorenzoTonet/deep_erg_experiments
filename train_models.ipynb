{
 "cells": [
  {
   "cell_type": "code",
   "execution_count": 1,
   "id": "89a1a301",
   "metadata": {},
   "outputs": [],
   "source": [
    "import random\n",
    "import networkx as nx\n",
    "import torch\n",
    "\n",
    "from deep_ebm.utils_ebm import show_graph, evaluate_model\n",
    "from deep_ebm.utils_ebm import save_graph, compare_graphs, show_graph_grid, compare_statistics\n",
    "from deep_ebm.gnn_ebm import GraphDataset, GNN_EBM, train_one_epoch_pcd, gibbs_ministeps\n",
    "\n",
    "import pickle as pkl\n",
    "device = torch.device(\"cpu\")"
   ]
  },
  {
   "cell_type": "code",
   "execution_count": 21,
   "id": "4a13eadf",
   "metadata": {},
   "outputs": [],
   "source": [
    "with open(\"data/30IEEE_synth_dataset/reduced_30IEEE_synth_list_GraphDataset.pkl\", \"rb\") as f:\n",
    "    dataset_30IEEE  = pkl.load(f)\n",
    "\n",
    "with open(\"data/Tree30_dataset/Tree30_GraphDataset.pkl\", \"rb\") as f:\n",
    "    dataset_tree30  = pkl.load(f)\n",
    "\n",
    "with open(\"data/2community_dataset/2comms_GraphDataset.pkl\", \"rb\") as f:\n",
    "    dataset_2community  = pkl.load(f)"
   ]
  },
  {
   "cell_type": "markdown",
   "id": "b04522c1",
   "metadata": {},
   "source": [
    "---"
   ]
  },
  {
   "cell_type": "markdown",
   "id": "0be0dfdb",
   "metadata": {},
   "source": [
    "## 30 IEEE training"
   ]
  },
  {
   "cell_type": "code",
   "execution_count": 22,
   "id": "cfcca2bc",
   "metadata": {},
   "outputs": [],
   "source": [
    "model_30IEEE = GNN_EBM(node_feat_dim=dataset_30IEEE.max_nodes, hidden_dim=64, mp_steps=2).to(device)\n",
    "opt_30IEEE = torch.optim.Adam(model_30IEEE.parameters(), lr=1e-4)"
   ]
  },
  {
   "cell_type": "code",
   "execution_count": 23,
   "id": "3b4dca37",
   "metadata": {},
   "outputs": [
    {
     "name": "stdout",
     "output_type": "stream",
     "text": [
      "Epoch 0 loss = -1.0874\n",
      "Epoch 1 loss = -41478.2246\n",
      "Epoch 2 loss = -1244104.3567\n",
      "Epoch 3 loss = -245664.1246\n",
      "Epoch 4 loss = 316216.1111\n",
      "Epoch 5 loss = 116040.8414\n",
      "Epoch 6 loss = 81518.1729\n",
      "Epoch 7 loss = 54226.1550\n",
      "Epoch 8 loss = 29986.7221\n",
      "Epoch 9 loss = 18793.8757\n",
      "Epoch 10 loss = 14982.0807\n",
      "Epoch 11 loss = 12705.5554\n",
      "Epoch 12 loss = 10692.4893\n",
      "Epoch 13 loss = 9392.1061\n",
      "Epoch 14 loss = 7538.9000\n",
      "Epoch 15 loss = 6291.5225\n",
      "Epoch 16 loss = 5140.4004\n",
      "Epoch 17 loss = 4022.3071\n",
      "Epoch 18 loss = 3366.6446\n",
      "Epoch 19 loss = 2681.9771\n",
      "Epoch 20 loss = 1881.2971\n",
      "Epoch 21 loss = 1323.5818\n",
      "Epoch 22 loss = 977.2475\n",
      "Epoch 23 loss = 813.5364\n",
      "Epoch 24 loss = 816.9743\n",
      "Epoch 25 loss = 753.2446\n",
      "Epoch 26 loss = 230.5396\n",
      "Epoch 27 loss = -324234.7970\n",
      "Epoch 28 loss = -795743.0342\n",
      "Epoch 29 loss = -19136.9793\n"
     ]
    }
   ],
   "source": [
    "persistent_30IEEE = []\n",
    "for epoch in range(30):\n",
    "    loss = train_one_epoch_pcd(model_30IEEE, dataset_30IEEE, opt_30IEEE, device, persistent_chains=persistent_30IEEE, mini_steps=500)\n",
    "    print(f\"Epoch {epoch} loss = {loss:.4f}\")"
   ]
  },
  {
   "cell_type": "code",
   "execution_count": 24,
   "id": "50ec51ac",
   "metadata": {},
   "outputs": [],
   "source": [
    "save_path = \"/home/lorenzo/STORAGE/UNI/TESI/workspace/deep_erg_experiments/Saved_models/30IEEE_GNN_EBM_30epochs.pkl\"\n",
    "with open(save_path, \"wb\") as f:\n",
    "    pkl.dump(model_30IEEE, f)"
   ]
  },
  {
   "cell_type": "markdown",
   "id": "2ff0a487",
   "metadata": {},
   "source": [
    "---"
   ]
  },
  {
   "cell_type": "markdown",
   "id": "a34fa3dd",
   "metadata": {},
   "source": [
    "## 30 Trees"
   ]
  },
  {
   "cell_type": "code",
   "execution_count": 25,
   "id": "a89601b8",
   "metadata": {},
   "outputs": [],
   "source": [
    "model_tree30 = GNN_EBM(node_feat_dim=dataset_tree30.max_nodes, hidden_dim=64, mp_steps=2).to(device)\n",
    "opt_tree30 = torch.optim.Adam(model_tree30.parameters(), lr=1e-4)"
   ]
  },
  {
   "cell_type": "code",
   "execution_count": 26,
   "id": "d42cf9d6",
   "metadata": {},
   "outputs": [
    {
     "name": "stdout",
     "output_type": "stream",
     "text": [
      "Epoch 0 loss = -0.0308\n",
      "Epoch 1 loss = -36.2999\n",
      "Epoch 2 loss = -49479.2725\n",
      "Epoch 3 loss = -2794226.6891\n",
      "Epoch 4 loss = -16644404.3225\n",
      "Epoch 5 loss = -12165318.8800\n",
      "Epoch 6 loss = 12773586.4200\n",
      "Epoch 7 loss = 10706460.6700\n",
      "Epoch 8 loss = 9587014.1500\n",
      "Epoch 9 loss = 6521167.4300\n",
      "Epoch 10 loss = 3945354.2200\n",
      "Epoch 11 loss = 1917884.6200\n",
      "Epoch 12 loss = 804654.7300\n",
      "Epoch 13 loss = 459857.1100\n",
      "Epoch 14 loss = 289862.9100\n",
      "Epoch 15 loss = 185631.6100\n",
      "Epoch 16 loss = 109596.2600\n",
      "Epoch 17 loss = 56148.9000\n",
      "Epoch 18 loss = 47180.2900\n",
      "Epoch 19 loss = 44561.2900\n",
      "Epoch 20 loss = 42029.1800\n",
      "Epoch 21 loss = 38942.3500\n",
      "Epoch 22 loss = 34434.2000\n",
      "Epoch 23 loss = 31196.0100\n",
      "Epoch 24 loss = 28986.2800\n",
      "Epoch 25 loss = 27247.5800\n",
      "Epoch 26 loss = 26442.8900\n",
      "Epoch 27 loss = 26382.5300\n",
      "Epoch 28 loss = 26196.9800\n",
      "Epoch 29 loss = 26299.5900\n"
     ]
    }
   ],
   "source": [
    "persistent_tree30 = []\n",
    "for epoch in range(30):\n",
    "    loss = train_one_epoch_pcd(model_tree30, dataset_tree30, opt_tree30, device, persistent_chains=persistent_tree30, mini_steps=500)\n",
    "    print(f\"Epoch {epoch} loss = {loss:.4f}\")"
   ]
  },
  {
   "cell_type": "code",
   "execution_count": 27,
   "id": "a2a0c060",
   "metadata": {},
   "outputs": [],
   "source": [
    "save_path = \"/home/lorenzo/STORAGE/UNI/TESI/workspace/deep_erg_experiments/Saved_models/tree30_GNN_EBM_30epochs.pkl\"\n",
    "with open(save_path, \"wb\") as f:\n",
    "    pkl.dump(model_tree30, f)"
   ]
  },
  {
   "cell_type": "markdown",
   "id": "8b44d87b",
   "metadata": {},
   "source": [
    "---"
   ]
  },
  {
   "cell_type": "markdown",
   "id": "271f5910",
   "metadata": {},
   "source": [
    "## 2 Community"
   ]
  },
  {
   "cell_type": "code",
   "execution_count": 28,
   "id": "2971ccd2",
   "metadata": {},
   "outputs": [],
   "source": [
    "model_2community = GNN_EBM(node_feat_dim=dataset_2community.max_nodes, hidden_dim=64, mp_steps=2).to(device)\n",
    "opt_2community = torch.optim.Adam(model_2community.parameters(), lr=1e-4)"
   ]
  },
  {
   "cell_type": "code",
   "execution_count": null,
   "id": "1f0861a3",
   "metadata": {},
   "outputs": [
    {
     "name": "stdout",
     "output_type": "stream",
     "text": [
      "Epoch 0 loss = -0.0053\n",
      "Epoch 1 loss = -12.9583\n",
      "Epoch 2 loss = -17202.1187\n",
      "Epoch 3 loss = -237984.2277\n",
      "Epoch 4 loss = 21739.2852\n",
      "Epoch 5 loss = 20490.3001\n",
      "Epoch 6 loss = 4887.9544\n",
      "Epoch 7 loss = 4792.5032\n",
      "Epoch 8 loss = 4303.2560\n",
      "Epoch 9 loss = 4050.7120\n",
      "Epoch 10 loss = 3717.9711\n",
      "Epoch 11 loss = 3342.3563\n",
      "Epoch 12 loss = 2975.3584\n",
      "Epoch 13 loss = 2651.7833\n",
      "Epoch 14 loss = 2381.2753\n",
      "Epoch 15 loss = 2163.9541\n",
      "Epoch 16 loss = 1963.3537\n",
      "Epoch 17 loss = 1789.3832\n",
      "Epoch 18 loss = 1634.0117\n",
      "Epoch 19 loss = 1471.1604\n",
      "Epoch 20 loss = 1326.9180\n",
      "Epoch 21 loss = 1200.9645\n",
      "Epoch 22 loss = 1073.4442\n",
      "Epoch 23 loss = 999.8699\n",
      "Epoch 24 loss = 886.5862\n",
      "Epoch 25 loss = 801.3970\n",
      "Epoch 26 loss = 724.9902\n",
      "Epoch 27 loss = 655.2380\n",
      "Epoch 28 loss = 593.1356\n",
      "Epoch 29 loss = 532.9322\n",
      "Epoch 30 loss = 511.9037\n",
      "Epoch 31 loss = 488.5917\n",
      "Epoch 32 loss = 445.7895\n",
      "Epoch 33 loss = 395.8731\n",
      "Epoch 34 loss = 321.1339\n",
      "Epoch 35 loss = 284.4370\n",
      "Epoch 36 loss = 254.9099\n",
      "Epoch 37 loss = 229.2377\n",
      "Epoch 38 loss = 204.3537\n",
      "Epoch 39 loss = 182.3418\n",
      "Epoch 40 loss = 161.0470\n",
      "Epoch 41 loss = 142.1975\n",
      "Epoch 42 loss = 125.0799\n",
      "Epoch 43 loss = 110.4966\n",
      "Epoch 44 loss = 94.7202\n",
      "Epoch 45 loss = 82.5727\n",
      "Epoch 46 loss = 71.4758\n",
      "Epoch 47 loss = 60.5220\n",
      "Epoch 48 loss = 52.5954\n",
      "Epoch 49 loss = 45.2054\n"
     ]
    }
   ],
   "source": [
    "persistent_2community = []\n",
    "for epoch in range(50):\n",
    "    loss = train_one_epoch_pcd(model_2community, dataset_2community, opt_2community, device, persistent_chains=persistent_2community, mini_steps=500)\n",
    "    print(f\"Epoch {epoch} loss = {loss:.4f}\")"
   ]
  },
  {
   "cell_type": "code",
   "execution_count": 30,
   "id": "dd937de4",
   "metadata": {},
   "outputs": [],
   "source": [
    "save_path = \"/home/lorenzo/STORAGE/UNI/TESI/workspace/deep_erg_experiments/Saved_models/2community_GNN_EBM_50epochs.pkl\"\n",
    "with open(save_path, \"wb\") as f:\n",
    "    pkl.dump(model_2community, f)"
   ]
  },
  {
   "cell_type": "markdown",
   "id": "581b2ef2",
   "metadata": {},
   "source": [
    "---"
   ]
  },
  {
   "cell_type": "markdown",
   "id": "d6ddeaee",
   "metadata": {},
   "source": [
    "## Other try"
   ]
  },
  {
   "cell_type": "code",
   "execution_count": 31,
   "id": "77536467",
   "metadata": {},
   "outputs": [
    {
     "name": "stdout",
     "output_type": "stream",
     "text": [
      "Epoch 0 loss = -0.3963\n",
      "Epoch 1 loss = -13441.1479\n",
      "Epoch 2 loss = -2417420.0405\n",
      "Epoch 3 loss = -6556717.2057\n",
      "Epoch 4 loss = -2078267.8171\n",
      "Epoch 5 loss = 5654515.3829\n",
      "Epoch 6 loss = -24518316.4743\n",
      "Epoch 7 loss = -10697521.2686\n",
      "Epoch 8 loss = 3478042.1600\n",
      "Epoch 9 loss = -14374824.0571\n",
      "Epoch 10 loss = -74028619.3171\n",
      "Epoch 11 loss = -374197900.2257\n",
      "Epoch 12 loss = -2875367450.0857\n",
      "Epoch 13 loss = -3772311819.6114\n",
      "Epoch 14 loss = -910005850.6057\n",
      "Epoch 15 loss = 501277260.0686\n",
      "Epoch 16 loss = 3617581630.6286\n",
      "Epoch 17 loss = 3473218667.5200\n",
      "Epoch 18 loss = 2820216272.4571\n",
      "Epoch 19 loss = 3182484309.9429\n",
      "Epoch 20 loss = 3235650600.5943\n",
      "Epoch 21 loss = 2619034149.6686\n",
      "Epoch 22 loss = 2185062603.2457\n",
      "Epoch 23 loss = 1948304362.5143\n",
      "Epoch 24 loss = 1528943535.9086\n",
      "Epoch 25 loss = 1142708911.9543\n",
      "Epoch 26 loss = 631278359.3143\n",
      "Epoch 27 loss = 99162931.2000\n",
      "Epoch 28 loss = -14485361.5314\n",
      "Epoch 29 loss = -17094101.5543\n",
      "Epoch 30 loss = -19835279.2230\n",
      "Epoch 31 loss = -24105039.5655\n",
      "Epoch 32 loss = -24197407.0171\n",
      "Epoch 33 loss = -23722580.5486\n",
      "Epoch 34 loss = -23281658.9714\n",
      "Epoch 35 loss = -21583313.9200\n",
      "Epoch 36 loss = -19913020.4572\n",
      "Epoch 37 loss = -19973134.1714\n",
      "Epoch 38 loss = -20088653.4628\n",
      "Epoch 39 loss = -19197474.8800\n",
      "Epoch 40 loss = -21160160.9143\n",
      "Epoch 41 loss = -20234970.2857\n",
      "Epoch 42 loss = -20795620.9829\n",
      "Epoch 43 loss = -22464097.3715\n",
      "Epoch 44 loss = -24231307.5200\n",
      "Epoch 45 loss = -26462755.0629\n",
      "Epoch 46 loss = -21206627.4286\n",
      "Epoch 47 loss = -23262660.8914\n",
      "Epoch 48 loss = -23835807.8171\n",
      "Epoch 49 loss = -24430574.7200\n"
     ]
    }
   ],
   "source": [
    "model_30IEEE_2 = GNN_EBM(node_feat_dim=dataset_30IEEE.max_nodes, hidden_dim=64, mp_steps=2).to(device)\n",
    "opt_30IEEE_2 = torch.optim.Adam(model_30IEEE_2.parameters(), lr=1e-4)\n",
    "persistent_30IEEE_2 = []\n",
    "for epoch in range(50):\n",
    "    loss = train_one_epoch_pcd(model_30IEEE_2, dataset_30IEEE, opt_30IEEE_2, device, persistent_chains=persistent_30IEEE_2, mini_steps=200)\n",
    "    print(f\"Epoch {epoch} loss = {loss:.4f}\")\n"
   ]
  },
  {
   "cell_type": "code",
   "execution_count": 32,
   "id": "5811559b",
   "metadata": {},
   "outputs": [],
   "source": [
    "save_path = \"/home/lorenzo/STORAGE/UNI/TESI/workspace/deep_erg_experiments/Saved_models/30IEEE_GNN_EBM_50epochs_200GS.pkl\"\n",
    "with open(save_path, \"wb\") as f:\n",
    "    pkl.dump(model_30IEEE_2, f)"
   ]
  }
 ],
 "metadata": {
  "kernelspec": {
   "display_name": "venv_fisso",
   "language": "python",
   "name": "python3"
  },
  "language_info": {
   "codemirror_mode": {
    "name": "ipython",
    "version": 3
   },
   "file_extension": ".py",
   "mimetype": "text/x-python",
   "name": "python",
   "nbconvert_exporter": "python",
   "pygments_lexer": "ipython3",
   "version": "3.11.13"
  }
 },
 "nbformat": 4,
 "nbformat_minor": 5
}
